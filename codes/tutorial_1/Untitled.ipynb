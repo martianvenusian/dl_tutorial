{
 "cells": [
  {
   "cell_type": "code",
   "execution_count": 1,
   "id": "numerous-computer",
   "metadata": {},
   "outputs": [],
   "source": [
    "import torch\n",
    "%matplotlib inline\n",
    "from matplotlib import pyplot as plt\n",
    "import numpy as np"
   ]
  },
  {
   "cell_type": "code",
   "execution_count": 2,
   "id": "talented-exercise",
   "metadata": {},
   "outputs": [],
   "source": [
    "y = [4.209015  , 6.0251656 , 6.586659  , 1.0785204 , 5.323591,   2.9644287, 8.885769  , 9.895647  ,  6.464806  , 0.18034637, 1.2534696]\n",
    "x = [34.552039 , 74.45411  , 80.987488 ,  3.458197 , 56.4778655, 26.98163  , 95.79415  , 106.228316 , 61.169422 , 1.089516 , 8.962632]"
   ]
  },
  {
   "cell_type": "code",
   "execution_count": 3,
   "id": "dependent-tablet",
   "metadata": {},
   "outputs": [],
   "source": [
    "y = torch.tensor(y)\n",
    "x = torch.tensor(x)"
   ]
  },
  {
   "cell_type": "code",
   "execution_count": 4,
   "id": "organizational-procurement",
   "metadata": {},
   "outputs": [],
   "source": [
    "def model(x, w, b):\n",
    "    return w * x + b"
   ]
  },
  {
   "cell_type": "code",
   "execution_count": 5,
   "id": "broken-ethernet",
   "metadata": {},
   "outputs": [],
   "source": [
    "def loss_fn(yy, y):\n",
    "    squared_diffs = (yy - y)**2\n",
    "    return squared_diffs.mean()"
   ]
  },
  {
   "cell_type": "code",
   "execution_count": 9,
   "id": "downtown-stadium",
   "metadata": {},
   "outputs": [],
   "source": [
    "def dloss_fn(yy, y):\n",
    "    dsq_diffs = 2 * (yy - y) / yy.size(0)\n",
    "    return dsq_diffs "
   ]
  },
  {
   "cell_type": "code",
   "execution_count": 10,
   "id": "centered-consequence",
   "metadata": {},
   "outputs": [],
   "source": [
    "def dmodel_dw(x, w, b):\n",
    "    return x"
   ]
  },
  {
   "cell_type": "code",
   "execution_count": 11,
   "id": "italic-section",
   "metadata": {},
   "outputs": [],
   "source": [
    "def dmodel_db(x, w, b):\n",
    "    return 1.0"
   ]
  },
  {
   "cell_type": "code",
   "execution_count": 12,
   "id": "peaceful-penetration",
   "metadata": {},
   "outputs": [],
   "source": [
    "def grad_fn(x, y, yy, w, b):\n",
    "    dloss_dyy = dloss_fn(yy,y)\n",
    "    dloss_dw = dloss_dyy * dmodel_dw(x, w, b)\n",
    "    dloss_db = dloss_dyy * dmodel_dw(x, w, b)\n",
    "    return torch.stack([dloss_dw.sum(), dloss_db.sum()])"
   ]
  },
  {
   "cell_type": "code",
   "execution_count": 13,
   "id": "representative-battery",
   "metadata": {},
   "outputs": [],
   "source": [
    "def training_loop(n_epochs, learning_rate, params, x, y):\n",
    "    for epoch in range(1, n_epochs + 1):\n",
    "        w, b = params\n",
    "        yy = model(x, w, b)\n",
    "        loss = loss_fn(yy, y)                \n",
    "        grad = grad_fn(x, y, yy, w, b)        \n",
    "        params = params - learning_rate * grad\n",
    "        print('Epoch %d, Loss %f' % (epoch, float(loss)))\n",
    "        \n",
    "    return params"
   ]
  },
  {
   "cell_type": "code",
   "execution_count": 14,
   "id": "nuclear-kingdom",
   "metadata": {},
   "outputs": [
    {
     "name": "stdout",
     "output_type": "stream",
     "text": [
      "Epoch 1, Loss 3111.259521\n",
      "Epoch 2, Loss 173.008987\n",
      "Epoch 3, Loss 10.498895\n",
      "Epoch 4, Loss 1.533096\n",
      "Epoch 5, Loss 1.043715\n",
      "Epoch 6, Loss 1.018247\n",
      "Epoch 7, Loss 1.017218\n",
      "Epoch 8, Loss 1.017250\n",
      "Epoch 9, Loss 1.017273\n",
      "Epoch 10, Loss 1.017280\n",
      "Epoch 11, Loss 1.017281\n",
      "Epoch 12, Loss 1.017282\n",
      "Epoch 13, Loss 1.017282\n",
      "Epoch 14, Loss 1.017282\n",
      "Epoch 15, Loss 1.017282\n",
      "Epoch 16, Loss 1.017282\n",
      "Epoch 17, Loss 1.017282\n",
      "Epoch 18, Loss 1.017282\n",
      "Epoch 19, Loss 1.017282\n",
      "Epoch 20, Loss 1.017282\n",
      "Epoch 21, Loss 1.017282\n",
      "Epoch 22, Loss 1.017282\n",
      "Epoch 23, Loss 1.017282\n",
      "Epoch 24, Loss 1.017282\n",
      "Epoch 25, Loss 1.017282\n",
      "Epoch 26, Loss 1.017282\n",
      "Epoch 27, Loss 1.017282\n",
      "Epoch 28, Loss 1.017282\n",
      "Epoch 29, Loss 1.017282\n",
      "Epoch 30, Loss 1.017282\n",
      "Epoch 31, Loss 1.017282\n",
      "Epoch 32, Loss 1.017282\n",
      "Epoch 33, Loss 1.017282\n",
      "Epoch 34, Loss 1.017282\n",
      "Epoch 35, Loss 1.017282\n",
      "Epoch 36, Loss 1.017282\n",
      "Epoch 37, Loss 1.017282\n",
      "Epoch 38, Loss 1.017282\n",
      "Epoch 39, Loss 1.017282\n",
      "Epoch 40, Loss 1.017282\n",
      "Epoch 41, Loss 1.017282\n",
      "Epoch 42, Loss 1.017282\n",
      "Epoch 43, Loss 1.017282\n",
      "Epoch 44, Loss 1.017282\n",
      "Epoch 45, Loss 1.017282\n",
      "Epoch 46, Loss 1.017282\n",
      "Epoch 47, Loss 1.017282\n",
      "Epoch 48, Loss 1.017282\n",
      "Epoch 49, Loss 1.017282\n",
      "Epoch 50, Loss 1.017282\n",
      "Epoch 51, Loss 1.017282\n",
      "Epoch 52, Loss 1.017282\n",
      "Epoch 53, Loss 1.017282\n",
      "Epoch 54, Loss 1.017282\n",
      "Epoch 55, Loss 1.017282\n",
      "Epoch 56, Loss 1.017282\n",
      "Epoch 57, Loss 1.017282\n",
      "Epoch 58, Loss 1.017282\n",
      "Epoch 59, Loss 1.017282\n",
      "Epoch 60, Loss 1.017282\n",
      "Epoch 61, Loss 1.017282\n",
      "Epoch 62, Loss 1.017282\n",
      "Epoch 63, Loss 1.017282\n",
      "Epoch 64, Loss 1.017282\n",
      "Epoch 65, Loss 1.017282\n",
      "Epoch 66, Loss 1.017282\n",
      "Epoch 67, Loss 1.017282\n",
      "Epoch 68, Loss 1.017282\n",
      "Epoch 69, Loss 1.017282\n",
      "Epoch 70, Loss 1.017282\n",
      "Epoch 71, Loss 1.017282\n",
      "Epoch 72, Loss 1.017282\n",
      "Epoch 73, Loss 1.017282\n",
      "Epoch 74, Loss 1.017282\n",
      "Epoch 75, Loss 1.017282\n",
      "Epoch 76, Loss 1.017282\n",
      "Epoch 77, Loss 1.017282\n",
      "Epoch 78, Loss 1.017282\n",
      "Epoch 79, Loss 1.017282\n",
      "Epoch 80, Loss 1.017282\n",
      "Epoch 81, Loss 1.017282\n",
      "Epoch 82, Loss 1.017282\n",
      "Epoch 83, Loss 1.017282\n",
      "Epoch 84, Loss 1.017282\n",
      "Epoch 85, Loss 1.017282\n",
      "Epoch 86, Loss 1.017282\n",
      "Epoch 87, Loss 1.017282\n",
      "Epoch 88, Loss 1.017282\n",
      "Epoch 89, Loss 1.017282\n",
      "Epoch 90, Loss 1.017282\n",
      "Epoch 91, Loss 1.017282\n",
      "Epoch 92, Loss 1.017282\n",
      "Epoch 93, Loss 1.017282\n",
      "Epoch 94, Loss 1.017282\n",
      "Epoch 95, Loss 1.017282\n",
      "Epoch 96, Loss 1.017282\n",
      "Epoch 97, Loss 1.017282\n",
      "Epoch 98, Loss 1.017282\n",
      "Epoch 99, Loss 1.017282\n",
      "Epoch 100, Loss 1.017282\n"
     ]
    },
    {
     "data": {
      "text/plain": [
       "tensor([ 0.1039, -0.8961])"
      ]
     },
     "execution_count": 14,
     "metadata": {},
     "output_type": "execute_result"
    }
   ],
   "source": [
    "training_loop(\n",
    "    n_epochs = 100,\n",
    "    learning_rate = 1e-4,\n",
    "    params = torch.tensor([1.0, 0.0]),\n",
    "    x = x,\n",
    "    y = y)"
   ]
  },
  {
   "cell_type": "code",
   "execution_count": null,
   "id": "republican-kelly",
   "metadata": {},
   "outputs": [],
   "source": []
  }
 ],
 "metadata": {
  "kernelspec": {
   "display_name": "Python 3",
   "language": "python",
   "name": "python3"
  },
  "language_info": {
   "codemirror_mode": {
    "name": "ipython",
    "version": 3
   },
   "file_extension": ".py",
   "mimetype": "text/x-python",
   "name": "python",
   "nbconvert_exporter": "python",
   "pygments_lexer": "ipython3",
   "version": "3.8.5"
  }
 },
 "nbformat": 4,
 "nbformat_minor": 5
}
